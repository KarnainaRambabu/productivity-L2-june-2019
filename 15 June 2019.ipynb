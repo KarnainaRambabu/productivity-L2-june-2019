{
 "cells": [
  {
   "cell_type": "markdown",
   "metadata": {},
   "source": [
    "### Task- Problem-ClosestZero"
   ]
  },
  {
   "cell_type": "code",
   "execution_count": 25,
   "metadata": {},
   "outputs": [
    {
     "name": "stdout",
     "output_type": "stream",
     "text": [
      "1\n"
     ]
    }
   ],
   "source": [
    "\n",
    "\n",
    "li = [-2, -3, -4, -1, 0, 2]\n",
    "li.sort()\n",
    "pl = []\n",
    " \n",
    "for i in li:\n",
    "    pl.append(abs(i))\n",
    "pl.sort()\n",
    "if pl[-1] in li:\n",
    "    print(pl[-1])\n",
    "else:\n",
    "    print(pl[1])\n",
    "\n"
   ]
  },
  {
   "cell_type": "markdown",
   "metadata": {},
   "source": [
    "###  Find the Divident "
   ]
  },
  {
   "cell_type": "code",
   "execution_count": null,
   "metadata": {},
   "outputs": [
    {
     "name": "stdout",
     "output_type": "stream",
     "text": [
      "2\n",
      "2\n",
      "2\n"
     ]
    }
   ],
   "source": [
    "a = int(input())\n",
    "b = int(input())\n",
    "c = int(input())\n",
    "i=c\n",
    "while i<=c:\n",
    "    if b==i%a:\n",
    "        print(i)\n",
    "        break\n",
    "    i=i-1\n",
    "    \n",
    "    "
   ]
  },
  {
   "cell_type": "markdown",
   "metadata": {},
   "source": [
    "### Problem : Duration"
   ]
  },
  {
   "cell_type": "code",
   "execution_count": 8,
   "metadata": {},
   "outputs": [
    {
     "name": "stdout",
     "output_type": "stream",
     "text": [
      "1\n",
      "11 30 12 45\n",
      "1 15\n"
     ]
    }
   ],
   "source": [
    "n = int(input())\n",
    "for i in range (1,n+1):\n",
    "    r = input().split()\n",
    "    x = (r[0]), (r[2])\n",
    "    y = (r[1]), (r[3])\n",
    "    dh = int(x[1])-int(x[0])-1\n",
    "    dm = int(y[1])+60-int(y[0])\n",
    "    if dm>=60:\n",
    "        z=dm//60\n",
    "        dh+=z\n",
    "        b=dm%60\n",
    "        dm=b\n",
    "        print(dh, dm)\n",
    "    else:\n",
    "        print(dh, dm)\n",
    "    "
   ]
  },
  {
   "cell_type": "markdown",
   "metadata": {},
   "source": [
    "### Problem : Prime Number"
   ]
  },
  {
   "cell_type": "code",
   "execution_count": 9,
   "metadata": {},
   "outputs": [
    {
     "name": "stdout",
     "output_type": "stream",
     "text": [
      "21\n",
      "2 3 5 7 11 13 17 19 "
     ]
    }
   ],
   "source": [
    "n = int(input())\n",
    "for a in range(1,n):\n",
    "    s=0\n",
    "    for i in range(1,a+1):\n",
    "        if a % i == 0:\n",
    "            s=s+1\n",
    "    if s==2:\n",
    "        print(a,end=\" \")\n",
    "        "
   ]
  },
  {
   "cell_type": "markdown",
   "metadata": {},
   "source": [
    "### Problem : Palinndrome"
   ]
  },
  {
   "cell_type": "code",
   "execution_count": 12,
   "metadata": {},
   "outputs": [
    {
     "name": "stdout",
     "output_type": "stream",
     "text": [
      "REVER\n",
      "YES\n"
     ]
    }
   ],
   "source": [
    "s=input()\n",
    "rev=s[::-1]\n",
    "if rev==s:\n",
    "    print(\"YES\")\n",
    "else:\n",
    "    print(\"NO\")\n"
   ]
  },
  {
   "cell_type": "markdown",
   "metadata": {},
   "source": [
    "### Problem : Count Divisors "
   ]
  },
  {
   "cell_type": "code",
   "execution_count": 16,
   "metadata": {},
   "outputs": [
    {
     "name": "stdout",
     "output_type": "stream",
     "text": [
      "1 23 7\n",
      "3\n"
     ]
    }
   ],
   "source": [
    "def countDiv(l,r,k):\n",
    "    count = 0\n",
    "    for n in range (l,r+1):\n",
    "        if n % k == 0:\n",
    "            count+= 1\n",
    "    print(count)\n",
    "s=input().split()\n",
    "l=int(s[0])\n",
    "r=int(s[1])\n",
    "k=int(s[2])\n",
    "countDiv(l,r,k)\n"
   ]
  },
  {
   "cell_type": "markdown",
   "metadata": {},
   "source": [
    "### Problem : Factorial"
   ]
  },
  {
   "cell_type": "code",
   "execution_count": 19,
   "metadata": {},
   "outputs": [
    {
     "name": "stdout",
     "output_type": "stream",
     "text": [
      "4\n",
      "24\n"
     ]
    }
   ],
   "source": [
    "N = int(input())\n",
    "p = 1\n",
    "for i in range(1, N + 1):\n",
    "    p = p * i\n",
    "print(p)\n"
   ]
  },
  {
   "cell_type": "markdown",
   "metadata": {},
   "source": [
    "### Problem : Toggle String"
   ]
  },
  {
   "cell_type": "code",
   "execution_count": 20,
   "metadata": {},
   "outputs": [
    {
     "name": "stdout",
     "output_type": "stream",
     "text": [
      "rAMBABU\n",
      "Rambabu\n"
     ]
    }
   ],
   "source": [
    "s=input()\n",
    "print(s.swapcase())\n"
   ]
  }
 ],
 "metadata": {
  "kernelspec": {
   "display_name": "Python 3",
   "language": "python",
   "name": "python3"
  },
  "language_info": {
   "codemirror_mode": {
    "name": "ipython",
    "version": 3
   },
   "file_extension": ".py",
   "mimetype": "text/x-python",
   "name": "python",
   "nbconvert_exporter": "python",
   "pygments_lexer": "ipython3",
   "version": "3.7.3"
  }
 },
 "nbformat": 4,
 "nbformat_minor": 2
}
