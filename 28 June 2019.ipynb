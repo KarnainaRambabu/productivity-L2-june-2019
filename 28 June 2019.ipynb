{
 "cells": [
  {
   "cell_type": "code",
   "execution_count": 14,
   "metadata": {},
   "outputs": [
    {
     "name": "stdout",
     "output_type": "stream",
     "text": [
      "9\n",
      "9 8 7 6 5 4 3 2 1 "
     ]
    }
   ],
   "source": [
    "a=int(input())\n",
    "for i in range(a,0,-1):\n",
    "    print(i,end=\" \")"
   ]
  },
  {
   "cell_type": "markdown",
   "metadata": {},
   "source": [
    "### 28 June 2019 Tasks"
   ]
  },
  {
   "cell_type": "code",
   "execution_count": 8,
   "metadata": {},
   "outputs": [
    {
     "name": "stdout",
     "output_type": "stream",
     "text": [
      "A P S S D C \n",
      "Apssdc\n"
     ]
    }
   ],
   "source": [
    "a=input()\n",
    "d=a.replace(\" \",\"\")\n",
    "c=d.title()\n",
    "print(c)"
   ]
  },
  {
   "cell_type": "code",
   "execution_count": 26,
   "metadata": {},
   "outputs": [
    {
     "name": "stdout",
     "output_type": "stream",
     "text": [
      "skill development\n",
      "development\n"
     ]
    }
   ],
   "source": [
    "a=input().split()\n",
    "a=list(a)\n",
    "b=min(a)\n",
    "print(b)"
   ]
  },
  {
   "cell_type": "code",
   "execution_count": 28,
   "metadata": {},
   "outputs": [
    {
     "name": "stdout",
     "output_type": "stream",
     "text": [
      "hari haran charan\n",
      "har\n",
      "hari\n",
      "haran\n"
     ]
    }
   ],
   "source": [
    "s=input().split() #s='rambabu'\n",
    "b=input()\n",
    "m=0\n",
    "for i in s:\n",
    "    if i.startswith(b):\n",
    "        print(i)\n",
    "        m=m+1\n",
    "if m==0:\n",
    "    print(-1)\n",
    "\n",
    "        "
   ]
  },
  {
   "cell_type": "code",
   "execution_count": 38,
   "metadata": {},
   "outputs": [
    {
     "name": "stdout",
     "output_type": "stream",
     "text": [
      "100\n",
      "1 3 5 7 9 11 13 15 17 19 21 23 25 27 29 31 33 35 37 39 41 43 45 47 49 51 53 55 57 59 61 63 65 67 69 71 73 75 77 79 81 83 85 87 89 91 93 95 97 99 "
     ]
    }
   ],
   "source": [
    "a=int(input())\n",
    "for i in range(1,a+1,2):\n",
    "    print(i,end=\" \")\n",
    "for i in range(2,a+1,2):\n",
    "    print(i,end=\" \")"
   ]
  },
  {
   "cell_type": "code",
   "execution_count": 72,
   "metadata": {},
   "outputs": [
    {
     "name": "stdout",
     "output_type": "stream",
     "text": [
      "21\n",
      "Odd no are [1, 3, 5, 7, 9, 11, 13, 15, 17, 19, 21] \n",
      " Even no are [0, 2, 4, 6, 8, 10, 12, 14, 16, 18, 20]\n"
     ]
    }
   ],
   "source": [
    "n=int(input())\n",
    "li=[i for i in range (1,n+1,2)]\n",
    "ai=[a for a in range (0,n+1,2)]\n",
    "print(\"Odd no are\", li, \"\\n\", \"Even no are\", ai)\n"
   ]
  },
  {
   "cell_type": "code",
   "execution_count": 70,
   "metadata": {},
   "outputs": [
    {
     "name": "stdout",
     "output_type": "stream",
     "text": [
      "45\n",
      "2 3 5 7 11 13 17 19 23 29 31 37 41 43 "
     ]
    }
   ],
   "source": [
    "n = int(input())\n",
    "for a in range(1,n):\n",
    "    s=0\n",
    "    for i in range(1,a):\n",
    "        if a % i == 0:\n",
    "            s=s+1\n",
    "    if s==1:\n",
    "        print(a,end=\" \")\n",
    "    "
   ]
  },
  {
   "cell_type": "code",
   "execution_count": 6,
   "metadata": {},
   "outputs": [
    {
     "ename": "SyntaxError",
     "evalue": "invalid syntax (<ipython-input-6-363c9ef71409>, line 2)",
     "output_type": "error",
     "traceback": [
      "\u001b[1;36m  File \u001b[1;32m\"<ipython-input-6-363c9ef71409>\"\u001b[1;36m, line \u001b[1;32m2\u001b[0m\n\u001b[1;33m    for i in range int(1,15+1):\u001b[0m\n\u001b[1;37m                     ^\u001b[0m\n\u001b[1;31mSyntaxError\u001b[0m\u001b[1;31m:\u001b[0m invalid syntax\n"
     ]
    }
   ],
   "source": [
    "n=5\n",
    "for i in range (1,15+1):\n",
    "    print(5,\",\",i,\",\", 5*i)"
   ]
  },
  {
   "cell_type": "code",
   "execution_count": 9,
   "metadata": {},
   "outputs": [
    {
     "name": "stdout",
     "output_type": "stream",
     "text": [
      "apssdc\n"
     ]
    },
    {
     "data": {
      "text/plain": [
       "['A', 'P', 'S', 'S', 'D', 'C']"
      ]
     },
     "execution_count": 9,
     "metadata": {},
     "output_type": "execute_result"
    }
   ],
   "source": [
    "x=input()\n",
    "li=[a.swapcase()for a in x]\n",
    "li\n",
    "# n=input()\n",
    "# r=n.swapcase()\n",
    "# print(r)"
   ]
  },
  {
   "cell_type": "code",
   "execution_count": null,
   "metadata": {},
   "outputs": [],
   "source": []
  }
 ],
 "metadata": {
  "kernelspec": {
   "display_name": "Python 3",
   "language": "python",
   "name": "python3"
  },
  "language_info": {
   "codemirror_mode": {
    "name": "ipython",
    "version": 3
   },
   "file_extension": ".py",
   "mimetype": "text/x-python",
   "name": "python",
   "nbconvert_exporter": "python",
   "pygments_lexer": "ipython3",
   "version": "3.7.3"
  }
 },
 "nbformat": 4,
 "nbformat_minor": 2
}
