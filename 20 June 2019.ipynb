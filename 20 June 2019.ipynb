{
 "cells": [
  {
   "cell_type": "code",
   "execution_count": 19,
   "metadata": {},
   "outputs": [
    {
     "name": "stdout",
     "output_type": "stream",
     "text": [
      "18\n",
      "19 WS\n"
     ]
    }
   ],
   "source": [
    "n = int(input())\n",
    "if(n==1 or n%6==0 or n%6==1):\n",
    "    print(n+1, \"WS\")\n",
    "    if(n==3 or n==4 or n%6==3  or n%6==4 ):\n",
    "        print(n+5, \"AS\")\n",
    "else:\n",
    "    print(n+3, \"MS\")"
   ]
  },
  {
   "cell_type": "markdown",
   "metadata": {},
   "source": [
    "*Date : 20 June 2019*\n",
    "## Day Objectives\n",
    "**1. Regular Expressions**\n",
    "\n",
    "    a. Constructing Regular Expressions for various use cases\n",
    "    \n",
    "    b. Regular Expressions Module and related in Python\n",
    "    \n",
    "    c. Improving the Contacts application with name and phone number validation using regular expressions\n",
    "    \n",
    "    \n",
    "**2. File Handling**\n",
    "\n",
    "    a. Text Files\n",
    "    \n",
    "    b. Upgrading the Contacts Application to store contact information in a text file"
   ]
  },
  {
   "cell_type": "code",
   "execution_count": null,
   "metadata": {},
   "outputs": [],
   "source": []
  },
  {
   "cell_type": "markdown",
   "metadata": {},
   "source": [
    "### Regular Expressions\n",
    "\n",
    "**Pattern Matching**\n",
    "\n",
    "1. Symbolic Notation of a pattern\n",
    "   \n",
    "       A. Pattern : Format which repeats\n",
    "   \n",
    "       B. Pattern(RE) represents The set of all values that match a pattern\n",
    "2. [0-9] -> Any digit\n",
    "\n",
    "3. [a-z] -> Any lower case alphabet\n",
    "\n",
    "4. [2468] -> All single digit multiples of 2\n",
    "\n",
    "5. [0-9]{1}$ Only single digit numbers\n",
    "\n",
    "6. [0-9]{3}$ Only 3 digit numbers\n",
    "\n",
    "7. [0-9]*0$ -> All multiples of 10\n",
    "\n",
    "8. ([1-9][0-9]*[05])$|^([5])$ -> All multiples of 5\n",
    "\n",
    "9. All 10 digit numbers\n",
    "\n",
    "10. [w][o][r][d] or (word) -> Searching for a 'word'\n",
    "\n",
    "11. [6-9][0-9]{9}$|^[0][6-9][0-9]{9}|^[+][9][1][6-9][0-9]{9}$ -> Validating Phone number(India)(start with 9876 followed by 9 digits)\n",
    "\n",
    "12. Email Validation( username@domain.extension )"
   ]
  },
  {
   "cell_type": "code",
   "execution_count": 46,
   "metadata": {},
   "outputs": [
    {
     "name": "stdout",
     "output_type": "stream",
     "text": [
      "Given no is a Valid\n"
     ]
    }
   ],
   "source": [
    "#function to write validate a phone number\n",
    "import re\n",
    "\n",
    "def PnNumberValidator(number):\n",
    "    pettern = '[6-9][0-9]{9}|^[0][6-9][0-9]{9}|^[+][9][1][6-9][0-9]{9}$'\n",
    "    if re.match(pettern, str(number)):\n",
    "        print(\"Given no is a Valid\")\n",
    "    else:\n",
    "        print(\"Given number is an invalid\")\n",
    "                \n",
    "PnNumberValidator(8143549465)"
   ]
  },
  {
   "cell_type": "code",
   "execution_count": null,
   "metadata": {},
   "outputs": [],
   "source": [
    "contacts = {}\n",
    "def addContact(name, phone):\n",
    "    if name not in contacts and PnNumberValidator(phone)\n",
    "        contacts[name] = phone\n",
    "        print(\"Contact %s added\" % name)\n",
    "    else:\n",
    "        print(\"Contact %s already exists\" % name )\n",
    "    return\n",
    "            "
   ]
  },
  {
   "cell_type": "code",
   "execution_count": null,
   "metadata": {},
   "outputs": [],
   "source": [
    "# Function to list all contacts\n",
    "def "
   ]
  },
  {
   "cell_type": "code",
   "execution_count": null,
   "metadata": {},
   "outputs": [
    {
     "name": "stdout",
     "output_type": "stream",
     "text": [
      "2\n"
     ]
    }
   ],
   "source": [
    "# Python 3:\n",
    "N = int(input())\n",
    "A = input()\n",
    "p = 1\n",
    "e = 1000000007\n",
    "A = A.split(\" \")\n",
    "for i in A: \n",
    "    p = (p * int(i)) % e\n",
    "    print(p)"
   ]
  },
  {
   "cell_type": "markdown",
   "metadata": {},
   "source": [
    "### File Handling in Python\n",
    "\n",
    "File - Document containing Information residing on the perminant storage\n",
    "Types - Text, PDF, CSV, etc\n",
    "\n",
    "File I/O -> Channeling I/O data to files\n",
    "\n",
    "Default I/O channel - Keyboard / Screen\n",
    "\n",
    "Change I/O channel to files for Reading and writing \n",
    "\n",
    "Read a File - Input from a file\n",
    "Write a File -  Output to a file"
   ]
  },
  {
   "cell_type": "code",
   "execution_count": 5,
   "metadata": {},
   "outputs": [
    {
     "data": {
      "text/plain": [
       "['Hi ', 'Hello', 'World']"
      ]
     },
     "execution_count": 5,
     "metadata": {},
     "output_type": "execute_result"
    }
   ],
   "source": [
    "def readFile(filename):\n",
    "    f = open(filename,'r')\n",
    "    filedata = f.read()\n",
    "    f.close()\n",
    "    return filedata\n",
    "\n",
    "filename = 'DataFiles/Data.txt'\n",
    "readFile(filename).split('\\n')\n"
   ]
  },
  {
   "cell_type": "code",
   "execution_count": 6,
   "metadata": {},
   "outputs": [
    {
     "ename": "TypeError",
     "evalue": "write() argument must be str, not list",
     "output_type": "error",
     "traceback": [
      "\u001b[1;31m---------------------------------------------------------------------------\u001b[0m",
      "\u001b[1;31mTypeError\u001b[0m                                 Traceback (most recent call last)",
      "\u001b[1;32m<ipython-input-6-dfee38e17d22>\u001b[0m in \u001b[0;36m<module>\u001b[1;34m\u001b[0m\n\u001b[0;32m      5\u001b[0m \u001b[1;33m\u001b[0m\u001b[0m\n\u001b[0;32m      6\u001b[0m \u001b[0mfiledata\u001b[0m \u001b[1;33m=\u001b[0m \u001b[1;33m[\u001b[0m\u001b[1;34m\"How\"\u001b[0m\u001b[1;33m,\u001b[0m \u001b[1;34m\"are\"\u001b[0m\u001b[1;33m,\u001b[0m \u001b[1;34m\"you\"\u001b[0m\u001b[1;33m]\u001b[0m\u001b[1;33m\u001b[0m\u001b[1;33m\u001b[0m\u001b[0m\n\u001b[1;32m----> 7\u001b[1;33m \u001b[0mappendDataToFile\u001b[0m\u001b[1;33m(\u001b[0m\u001b[0mfilename\u001b[0m\u001b[1;33m,\u001b[0m\u001b[0mfiledata\u001b[0m\u001b[1;33m)\u001b[0m\u001b[1;33m\u001b[0m\u001b[1;33m\u001b[0m\u001b[0m\n\u001b[0m",
      "\u001b[1;32m<ipython-input-6-dfee38e17d22>\u001b[0m in \u001b[0;36mappendDataToFile\u001b[1;34m(filename, filedata)\u001b[0m\n\u001b[0;32m      1\u001b[0m \u001b[1;32mdef\u001b[0m \u001b[0mappendDataToFile\u001b[0m\u001b[1;33m(\u001b[0m\u001b[0mfilename\u001b[0m\u001b[1;33m,\u001b[0m\u001b[0mfiledata\u001b[0m\u001b[1;33m)\u001b[0m\u001b[1;33m:\u001b[0m\u001b[1;33m\u001b[0m\u001b[1;33m\u001b[0m\u001b[0m\n\u001b[0;32m      2\u001b[0m     \u001b[1;32mwith\u001b[0m \u001b[0mopen\u001b[0m\u001b[1;33m(\u001b[0m\u001b[0mfilename\u001b[0m\u001b[1;33m,\u001b[0m \u001b[1;34m'a'\u001b[0m\u001b[1;33m)\u001b[0m \u001b[1;32mas\u001b[0m \u001b[0mf\u001b[0m \u001b[1;33m:\u001b[0m\u001b[1;33m\u001b[0m\u001b[1;33m\u001b[0m\u001b[0m\n\u001b[1;32m----> 3\u001b[1;33m         \u001b[0mf\u001b[0m\u001b[1;33m.\u001b[0m\u001b[0mwrite\u001b[0m\u001b[1;33m(\u001b[0m\u001b[0mfiledata\u001b[0m\u001b[1;33m)\u001b[0m\u001b[1;33m\u001b[0m\u001b[1;33m\u001b[0m\u001b[0m\n\u001b[0m\u001b[0;32m      4\u001b[0m     \u001b[1;32mreturn\u001b[0m\u001b[1;33m\u001b[0m\u001b[1;33m\u001b[0m\u001b[0m\n\u001b[0;32m      5\u001b[0m \u001b[1;33m\u001b[0m\u001b[0m\n",
      "\u001b[1;31mTypeError\u001b[0m: write() argument must be str, not list"
     ]
    }
   ],
   "source": [
    "def appendDataToFile(filename,filedata):\n",
    "    with open(filename, 'a') as f :\n",
    "        f.write(filedata)\n",
    "    return\n",
    "\n",
    "filedata = [\"How\", \"are\", \"you\"]\n",
    "appendDataToFile(filename,filedata)"
   ]
  },
  {
   "cell_type": "code",
   "execution_count": null,
   "metadata": {},
   "outputs": [],
   "source": [
    "\n"
   ]
  },
  {
   "cell_type": "code",
   "execution_count": null,
   "metadata": {},
   "outputs": [],
   "source": []
  }
 ],
 "metadata": {
  "kernelspec": {
   "display_name": "Python 3",
   "language": "python",
   "name": "python3"
  },
  "language_info": {
   "codemirror_mode": {
    "name": "ipython",
    "version": 3
   },
   "file_extension": ".py",
   "mimetype": "text/x-python",
   "name": "python",
   "nbconvert_exporter": "python",
   "pygments_lexer": "ipython3",
   "version": "3.7.3"
  }
 },
 "nbformat": 4,
 "nbformat_minor": 2
}
