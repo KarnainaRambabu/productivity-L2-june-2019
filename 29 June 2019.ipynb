{
 "cells": [
  {
   "cell_type": "code",
   "execution_count": 17,
   "metadata": {},
   "outputs": [
    {
     "name": "stdout",
     "output_type": "stream",
     "text": [
      "7\n",
      "True\n"
     ]
    }
   ],
   "source": [
    "n=int(input())\n",
    "for i in range (1,n+1):\n",
    "    rem=0\n",
    "    if n%i==0:\n",
    "        rem=rem+1\n",
    "    if rem==2:\n",
    "        print(\"False\")\n",
    "else:\n",
    "    print(\"True\")"
   ]
  },
  {
   "cell_type": "code",
   "execution_count": null,
   "metadata": {},
   "outputs": [],
   "source": [
    "n = int(input())\n",
    "for a in range(1,n):\n",
    "    for i in range(1,a+1):\n",
    "        if a % i == 0:\n",
    "                    print(\"True\")\n",
    "        else:\n",
    "            print(\"False\")\n",
    "        "
   ]
  },
  {
   "cell_type": "code",
   "execution_count": 37,
   "metadata": {},
   "outputs": [
    {
     "name": "stdout",
     "output_type": "stream",
     "text": [
      "93\n",
      "93 is a prime number\n"
     ]
    }
   ],
   "source": [
    "num=int(input())\n",
    "if num > 1:\n",
    "    for i in range(2,num):\n",
    "        if (num % i) == 0:\n",
    "            print(num,\"is not a prime number\")\n",
    "        else:\n",
    "            print(num,\"is a prime number\")\n",
    "        break\n",
    "    else:\n",
    "        print(num,\"is not a prime number\")"
   ]
  },
  {
   "cell_type": "code",
   "execution_count": 11,
   "metadata": {},
   "outputs": [
    {
     "name": "stdout",
     "output_type": "stream",
     "text": [
      "101\n",
      "True\n"
     ]
    }
   ],
   "source": [
    "num=int(input())\n",
    "if num > 1:\n",
    "    for i in range(2,num):\n",
    "        if (num % i) == 0:\n",
    "            print(\"False\")\n",
    "            break            \n",
    "    else:\n",
    "        print(\"True\")  \n",
    "else:\n",
    "    print(\"False\")  "
   ]
  },
  {
   "cell_type": "code",
   "execution_count": 10,
   "metadata": {},
   "outputs": [
    {
     "name": "stdout",
     "output_type": "stream",
     "text": [
      "fcuHIN\n",
      "3\n"
     ]
    }
   ],
   "source": [
    "a=input()\n",
    "count=0\n",
    "for i in a :\n",
    "    if (i.isupper()):\n",
    "        count=count+1\n",
    "print(count) "
   ]
  },
  {
   "cell_type": "code",
   "execution_count": 24,
   "metadata": {},
   "outputs": [
    {
     "name": "stdout",
     "output_type": "stream",
     "text": [
      "3242 4456 \n"
     ]
    },
    {
     "data": {
      "text/plain": [
       "['3', '2', '4', '2', ' ', '4', '4', '5', '6', ' ']"
      ]
     },
     "execution_count": 24,
     "metadata": {},
     "output_type": "execute_result"
    }
   ],
   "source": [
    "i=input()\n",
    "g=list(i)\n",
    "g\n"
   ]
  },
  {
   "cell_type": "code",
   "execution_count": 30,
   "metadata": {},
   "outputs": [
    {
     "name": "stdout",
     "output_type": "stream",
     "text": [
      "hai\n",
      "hey\n",
      "1\n"
     ]
    }
   ],
   "source": [
    "m=input()\n",
    "s=input()\n",
    "cnt=0\n",
    "for i in range (len(s)):\n",
    "    if m[i]==s[i]:\n",
    "        cnt=cnt+1\n",
    "print(cnt)\n",
    "        \n",
    " "
   ]
  },
  {
   "cell_type": "markdown",
   "metadata": {},
   "source": [
    "### Tuples:"
   ]
  },
  {
   "cell_type": "code",
   "execution_count": 35,
   "metadata": {},
   "outputs": [
    {
     "data": {
      "text/plain": [
       "float"
      ]
     },
     "execution_count": 35,
     "metadata": {},
     "output_type": "execute_result"
    }
   ],
   "source": [
    "a=(1.8)\n",
    "type(a)     "
   ]
  },
  {
   "cell_type": "code",
   "execution_count": 40,
   "metadata": {},
   "outputs": [
    {
     "name": "stdout",
     "output_type": "stream",
     "text": [
      "Sai\n"
     ]
    }
   ],
   "source": [
    "words={\"Name\":\"Sai\",\"Branch\":\"Computers\"}\n",
    "print(words['Name'])"
   ]
  },
  {
   "cell_type": "code",
   "execution_count": 6,
   "metadata": {},
   "outputs": [
    {
     "name": "stdout",
     "output_type": "stream",
     "text": [
      "{}\n"
     ]
    }
   ],
   "source": [
    "fruits=['Orange','Apple','Banana','Mango','Apple']\n",
    "fruits = {}.fruits\n",
    "print(fruits)"
   ]
  },
  {
   "cell_type": "code",
   "execution_count": null,
   "metadata": {},
   "outputs": [],
   "source": [
    "# %%timeit-4\n",
    "a=int(input())\n",
    "b=input()\n",
    "c=input()\n",
    "for i in range(len(b)):\n",
    "    # for j in range(1,c+1):\n",
    "    m=b[i]+c[i]\n",
    "    print(m,end=\" \")"
   ]
  },
  {
   "cell_type": "code",
   "execution_count": 11,
   "metadata": {},
   "outputs": [
    {
     "name": "stdout",
     "output_type": "stream",
     "text": [
      "900\n",
      "improve\n"
     ]
    }
   ],
   "source": [
    "a=int(input())\n",
    "if (a>=400 and a<=500) :\n",
    "    print(\"Greate\")\n",
    "else:\n",
    "    print(\"improve\")"
   ]
  },
  {
   "cell_type": "code",
   "execution_count": 14,
   "metadata": {},
   "outputs": [
    {
     "name": "stdout",
     "output_type": "stream",
     "text": [
      "100\n",
      "14\n",
      "28\n",
      "42\n",
      "56\n",
      "70\n",
      "84\n",
      "98\n"
     ]
    }
   ],
   "source": [
    "a=int(input())\n",
    "for i in range(1,a+1):\n",
    "    if (i%2== 0 and i%7==0):\n",
    "        print(i)\n"
   ]
  },
  {
   "cell_type": "markdown",
   "metadata": {},
   "source": [
    "### [Item Loop Condition]"
   ]
  },
  {
   "cell_type": "code",
   "execution_count": null,
   "metadata": {},
   "outputs": [],
   "source": [
    "no "
   ]
  }
 ],
 "metadata": {
  "kernelspec": {
   "display_name": "Python 3",
   "language": "python",
   "name": "python3"
  },
  "language_info": {
   "codemirror_mode": {
    "name": "ipython",
    "version": 3
   },
   "file_extension": ".py",
   "mimetype": "text/x-python",
   "name": "python",
   "nbconvert_exporter": "python",
   "pygments_lexer": "ipython3",
   "version": "3.7.3"
  }
 },
 "nbformat": 4,
 "nbformat_minor": 2
}
