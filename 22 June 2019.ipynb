{
 "cells": [
  {
   "cell_type": "markdown",
   "metadata": {},
   "source": [
    "### Date:22 June 2019"
   ]
  },
  {
   "cell_type": "markdown",
   "metadata": {},
   "source": [
    "#### Day Objectives\n",
    "\n",
    "- File Handling\n",
    "    - Basic File Data Processing\n",
    "        - Accessing And Modifying File\n",
    "    - Cahracter count\n",
    "    - Line count\n",
    "    - File size\n",
    "    - Word count\n",
    "    - Unique Word count  "
   ]
  },
  {
   "cell_type": "code",
   "execution_count": 6,
   "metadata": {},
   "outputs": [
    {
     "name": "stdout",
     "output_type": "stream",
     "text": [
      "<class '_io.TextIOWrapper'>\n",
      "None\n"
     ]
    }
   ],
   "source": [
    "# Read a file - file should exist\n",
    "    # write to a file - existing(append)\n",
    "    \n",
    "def readFile(filePath):\n",
    "    with open(filePath, 'r') as f:\n",
    "        print(type(f))\n",
    "    return\n",
    "\n",
    "filePath = 'DataFiles/Data.txt'\n",
    "print(readFile(filePath))\n",
    "    "
   ]
  },
  {
   "cell_type": "code",
   "execution_count": 20,
   "metadata": {},
   "outputs": [
    {
     "ename": "IndexError",
     "evalue": "list index out of range",
     "output_type": "error",
     "traceback": [
      "\u001b[1;31m---------------------------------------------------------------------------\u001b[0m",
      "\u001b[1;31mIndexError\u001b[0m                                Traceback (most recent call last)",
      "\u001b[1;32m<ipython-input-20-ec71b0b55359>\u001b[0m in \u001b[0;36m<module>\u001b[1;34m\u001b[0m\n\u001b[0;32m      1\u001b[0m \u001b[0ma\u001b[0m\u001b[1;33m=\u001b[0m\u001b[1;33m[\u001b[0m\u001b[1;36m12312\u001b[0m\u001b[1;33m]\u001b[0m\u001b[1;33m\u001b[0m\u001b[1;33m\u001b[0m\u001b[0m\n\u001b[1;32m----> 2\u001b[1;33m \u001b[0mc\u001b[0m \u001b[1;33m=\u001b[0m \u001b[0ma\u001b[0m\u001b[1;33m[\u001b[0m\u001b[1;36m1\u001b[0m\u001b[1;33m]\u001b[0m\u001b[1;33m+\u001b[0m\u001b[0ma\u001b[0m\u001b[1;33m[\u001b[0m\u001b[1;36m2\u001b[0m\u001b[1;33m]\u001b[0m\u001b[1;33m\u001b[0m\u001b[1;33m\u001b[0m\u001b[0m\n\u001b[0m\u001b[0;32m      3\u001b[0m \u001b[0mc\u001b[0m\u001b[1;33m\u001b[0m\u001b[1;33m\u001b[0m\u001b[0m\n",
      "\u001b[1;31mIndexError\u001b[0m: list index out of range"
     ]
    }
   ],
   "source": [
    "a=[12312]\n",
    "c = a[1]+a[2]\n",
    "c"
   ]
  },
  {
   "cell_type": "code",
   "execution_count": 39,
   "metadata": {},
   "outputs": [
    {
     "name": "stdout",
     "output_type": "stream",
     "text": [
      "1234567890\n"
     ]
    },
    {
     "ename": "NameError",
     "evalue": "name 'x' is not defined",
     "output_type": "error",
     "traceback": [
      "\u001b[1;31m---------------------------------------------------------------------------\u001b[0m",
      "\u001b[1;31mNameError\u001b[0m                                 Traceback (most recent call last)",
      "\u001b[1;32m<ipython-input-39-597718eebdbe>\u001b[0m in \u001b[0;36m<module>\u001b[1;34m\u001b[0m\n\u001b[0;32m      1\u001b[0m \u001b[0ma\u001b[0m \u001b[1;33m=\u001b[0m \u001b[0mint\u001b[0m\u001b[1;33m(\u001b[0m\u001b[0minput\u001b[0m\u001b[1;33m(\u001b[0m\u001b[1;33m)\u001b[0m\u001b[1;33m)\u001b[0m\u001b[1;33m\u001b[0m\u001b[1;33m\u001b[0m\u001b[0m\n\u001b[1;32m----> 2\u001b[1;33m \u001b[0ma\u001b[0m \u001b[1;33m=\u001b[0m \u001b[0mstr\u001b[0m\u001b[1;33m(\u001b[0m\u001b[0mx\u001b[0m\u001b[1;33m)\u001b[0m\u001b[1;33m\u001b[0m\u001b[1;33m\u001b[0m\u001b[0m\n\u001b[0m\u001b[0;32m      3\u001b[0m \u001b[0mn\u001b[0m \u001b[1;33m=\u001b[0m \u001b[1;36m1\u001b[0m\u001b[1;33m\u001b[0m\u001b[1;33m\u001b[0m\u001b[0m\n\u001b[0;32m      4\u001b[0m \u001b[0mb\u001b[0m \u001b[1;33m=\u001b[0m \u001b[1;36m0\u001b[0m\u001b[1;33m\u001b[0m\u001b[1;33m\u001b[0m\u001b[0m\n\u001b[0;32m      5\u001b[0m \u001b[1;32mif\u001b[0m \u001b[0mlen\u001b[0m\u001b[1;33m(\u001b[0m\u001b[0ma\u001b[0m\u001b[1;33m)\u001b[0m \u001b[1;33m==\u001b[0m \u001b[1;36m10\u001b[0m\u001b[1;33m:\u001b[0m\u001b[1;33m\u001b[0m\u001b[1;33m\u001b[0m\u001b[0m\n",
      "\u001b[1;31mNameError\u001b[0m: name 'x' is not defined"
     ]
    }
   ],
   "source": [
    "a = int(input())\n",
    "a = str(x)\n",
    "n = 1\n",
    "b = 0\n",
    "if len(a) == 10:\n",
    "    for i in range (len(a)):\n",
    "        b = (int(i) * n)\n",
    "        n = n + 1\n",
    "    if b % 11 == 0:\n",
    "        print ('Legal ISBN')\n",
    "else: \n",
    "    print('Illegal ISBN')\n",
    "    \n",
    "    \n",
    "    "
   ]
  },
  {
   "cell_type": "code",
   "execution_count": null,
   "metadata": {},
   "outputs": [],
   "source": [
    "a = input()\n",
    "if len(a)==10:\n",
    "    print(\"True\")    \n",
    "else:\n",
    "    print(\"False\")"
   ]
  },
  {
   "cell_type": "code",
   "execution_count": 10,
   "metadata": {},
   "outputs": [
    {
     "name": "stdout",
     "output_type": "stream",
     "text": [
      "1401601499\n",
      "Legal ISBN\n",
      "Legal ISBN\n",
      "Illegal ISBN\n"
     ]
    }
   ],
   "source": [
    "s = input()\n",
    "ans = 0 \n",
    "if (len(s) == 10):\n",
    "    for i in range(0,10):\n",
    "        ans = (i+1)*int(s[i])\n",
    "        if(ans%11==0):\n",
    "            print(\"Legal ISBN\")\n",
    "    else:\n",
    "            print(\"Illegal ISBN\")\n",
    "elif(len(s)!=10):\n",
    "    print(\"Illegal ISBN\")"
   ]
  },
  {
   "cell_type": "code",
   "execution_count": 1,
   "metadata": {},
   "outputs": [
    {
     "name": "stdout",
     "output_type": "stream",
     "text": [
      "2\n",
      "32\n",
      "29 MS\n",
      "23\n",
      "14 MS\n"
     ]
    }
   ],
   "source": [
    "l=int(input())\n",
    "for i in range(l):\n",
    "    n=int(input())\n",
    "    if (n<=108):\n",
    "        r=n%12\n",
    "        if (r==1 or r==6 or r==0 or r==7):\n",
    "            if r==1:\n",
    "                print(n+11, \"WS\")\n",
    "            elif r==6:\n",
    "                print(n+1, \"WS\")\n",
    "            elif r==0:\n",
    "                print(n-11, \"WS\")\n",
    "            else:\n",
    "                print(n-1, \"WS\")\n",
    "        elif (r==2 or r==5 or r==8 or r==11):\n",
    "            if (r==2):\n",
    "                print(n+9, \"MS\")\n",
    "            elif (r==5):\n",
    "                print(n+3, \"MS\")\n",
    "            elif (r==8):\n",
    "                print(n-3, \"MS\")\n",
    "            else:\n",
    "                print(n-9, \"MS\")\n",
    "        elif (r==3 or r==4 or r==9 or r==10):\n",
    "            if r==3:\n",
    "                print(n+7, \"AS\")\n",
    "            elif r==4:\n",
    "                print(n+5, \"AS\")\n",
    "            elif r==9:\n",
    "                print(n-5, \"AS\")\n",
    "            else:\n",
    "                print(n-7, \"AS\")\n",
    "    else:\n",
    "        print(\"this SEAT is Not availble in this bus\")"
   ]
  },
  {
   "cell_type": "code",
   "execution_count": null,
   "metadata": {},
   "outputs": [],
   "source": []
  }
 ],
 "metadata": {
  "kernelspec": {
   "display_name": "Python 3",
   "language": "python",
   "name": "python3"
  },
  "language_info": {
   "codemirror_mode": {
    "name": "ipython",
    "version": 3
   },
   "file_extension": ".py",
   "mimetype": "text/x-python",
   "name": "python",
   "nbconvert_exporter": "python",
   "pygments_lexer": "ipython3",
   "version": "3.7.3"
  }
 },
 "nbformat": 4,
 "nbformat_minor": 2
}
