{
 "cells": [
  {
   "cell_type": "code",
   "execution_count": 13,
   "metadata": {},
   "outputs": [
    {
     "name": "stdout",
     "output_type": "stream",
     "text": [
      "3\n",
      "1\n",
      "1\n"
     ]
    }
   ],
   "source": [
    "n = int(input())\n",
    "for i in range(1,n):\n",
    "    s=1\n",
    "    if n>s:\n",
    "        print(s)\n",
    "        s=s+1"
   ]
  },
  {
   "cell_type": "code",
   "execution_count": 2,
   "metadata": {},
   "outputs": [
    {
     "name": "stdout",
     "output_type": "stream",
     "text": [
      "3 3\n",
      "11 13 15\n",
      "39\n"
     ]
    }
   ],
   "source": [
    "n = input().split()\n",
    "n[0],n[1] = int(n[0]), int(n[1])\n",
    "a = input().split()\n",
    "sum = []\n",
    "for i in range (0,n[0]):\n",
    "    if i == 0:\n",
    "        sum.append(int(a[i])) \n",
    "    else:\n",
    "        sum.append(int(sum[i-1])+int(a[i]))\n",
    "        \n",
    "print(sum[n[0]-1])\n",
    "\n",
    "        "
   ]
  },
  {
   "cell_type": "markdown",
   "metadata": {},
   "source": [
    "### 15 Marks Question : Special Number "
   ]
  },
  {
   "cell_type": "code",
   "execution_count": 4,
   "metadata": {},
   "outputs": [
    {
     "data": {
      "text/plain": [
       "0"
      ]
     },
     "execution_count": 4,
     "metadata": {},
     "output_type": "execute_result"
    }
   ],
   "source": [
    "# Function to determine if a number is specialzation \n",
    "# Function to check if number is prime \n",
    "def isPrime(n):\n",
    "    flag = 1\n",
    "    if n == 2:\n",
    "        return True\n",
    "    for i in range (2, n//2+1):\n",
    "        if n % i == 0:\n",
    "            flag = 0\n",
    "            return False\n",
    "    if  flag == 1:\n",
    "        return True\n",
    "    \n",
    "isPrime(17)\n",
    "def NoOfPrimeFact(n):\n",
    "    if isPrime(n):\n",
    "        return 1\n",
    "    count = 0 \n",
    "    for i in range(2, n//2+1):\n",
    "        if isPrime(i) and n % i == 0:\n",
    "            count += 1\n",
    "        return count\n",
    "    \n",
    "NoOfPrimeFact(25)"
   ]
  },
  {
   "cell_type": "code",
   "execution_count": 27,
   "metadata": {},
   "outputs": [
    {
     "name": "stdout",
     "output_type": "stream",
     "text": [
      "7\n"
     ]
    }
   ],
   "source": [
    "def HighestRemainder(n):\n",
    "    hr = 0\n",
    "    v = n\n",
    "    for i in range(n-1, n//2+1, -1):\n",
    "        r = n % i\n",
    "        if r > hr:\n",
    "            hr = r\n",
    "            v = i\n",
    "    print(v)\n",
    "    return\n",
    "HighestRemainder(11)\n",
    "        "
   ]
  },
  {
   "cell_type": "markdown",
   "metadata": {},
   "source": [
    "### **Tuples** in Python"
   ]
  },
  {
   "cell_type": "code",
   "execution_count": 30,
   "metadata": {},
   "outputs": [],
   "source": [
    "\n",
    "t1 = ()\n",
    "li = []\n",
    "# Difference between list and tuples\n",
    "# Tuples are immutable- cannot be chenged\n",
    "#- Used to access data only\n",
    "#- All slicing work"
   ]
  },
  {
   "cell_type": "code",
   "execution_count": 35,
   "metadata": {},
   "outputs": [
    {
     "data": {
      "text/plain": [
       "(4, 5, 8)"
      ]
     },
     "execution_count": 35,
     "metadata": {},
     "output_type": "execute_result"
    }
   ],
   "source": [
    "t1 = (1, 2, 3, 4, 5, 8)\n",
    "t1[5]      # Accessing the pogistion of the array\n",
    "t1[len(t1)//2:] # Accessing all element "
   ]
  },
  {
   "cell_type": "markdown",
   "metadata": {},
   "source": [
    "### Dictionaries"
   ]
  },
  {
   "cell_type": "code",
   "execution_count": null,
   "metadata": {},
   "outputs": [],
   "source": [
    "# Itn works on the concept of set \n",
    "Unipue data\n",
    "\n",
    "keys, values \n",
    "# Keys i s unpue identifier for a value\n",
    "# Value is data that can be accessed with a key\n"
   ]
  },
  {
   "cell_type": "code",
   "execution_count": 49,
   "metadata": {},
   "outputs": [
    {
     "data": {
      "text/plain": [
       "True"
      ]
     },
     "execution_count": 49,
     "metadata": {},
     "output_type": "execute_result"
    }
   ],
   "source": [
    "d1 = {\"a\":\"123\", \"b\":\"786\"}\n",
    "\n",
    "d1[\"b\"]\n",
    "d1.keys()    # Output :- dict_keys(['a', 'b'])\n",
    "d1.values()  # Output :- dict_values(['123', '786'])\n",
    "d1.items()   # Output :- dict_items([('a', '123'), ('b', '786')])\n",
    "d1[\"c\"] = \"456\"\n",
    "d1           # Output :- {'a': '123', 'b': '786', 'c': '456'}\n",
    "d1.pop(\"c\")  # Output :- {'a': '123', 'b': '786'} \n",
    "d1\n",
    "\"a\" in d1"
   ]
  },
  {
   "cell_type": "markdown",
   "metadata": {},
   "source": [
    "### Concepts Application\n",
    "* Add Contact\n",
    "* Search for a Contact\n",
    "* List all Contacts\n",
    "* Modify Contact\n",
    "* Remove Contact"
   ]
  },
  {
   "cell_type": "code",
   "execution_count": 76,
   "metadata": {},
   "outputs": [],
   "source": [
    "contacts = {}\n",
    "def addContact(name, phone):\n",
    "    if name not in contacts:\n",
    "        contacts[name] = phone\n",
    "        print(\"Contact %s added\" % name)\n",
    "    else:\n",
    "        print(\"Contact %s already exists\" % name )\n",
    "    return\n",
    "            "
   ]
  },
  {
   "cell_type": "code",
   "execution_count": 87,
   "metadata": {},
   "outputs": [
    {
     "name": "stdout",
     "output_type": "stream",
     "text": [
      "Contact Ram added\n"
     ]
    }
   ],
   "source": [
    "addContact(\"Ram\", \"81231231123\")"
   ]
  },
  {
   "cell_type": "code",
   "execution_count": 88,
   "metadata": {},
   "outputs": [
    {
     "data": {
      "text/plain": [
       "{'name1': '88888',\n",
       " 'name2': '8888844',\n",
       " 'name3': '1122334455',\n",
       " 'Ram': '81231231123'}"
      ]
     },
     "execution_count": 88,
     "metadata": {},
     "output_type": "execute_result"
    }
   ],
   "source": [
    "contacts"
   ]
  },
  {
   "cell_type": "code",
   "execution_count": 95,
   "metadata": {},
   "outputs": [
    {
     "name": "stdout",
     "output_type": "stream",
     "text": [
      "2 contacts imported \n"
     ]
    }
   ],
   "source": [
    "# New Contacts is given as a dictionary\n",
    "# Merge new Contacts with exixsting contacts \n",
    "def importContacts(newContacts):\n",
    "    contacts.update(newContacts)\n",
    "    print(len(newContacts.keys()), \"contacts imported \")\n",
    "    return\n",
    "\n",
    "newContacts = {\"Rams\":9848022338, \"Pawan\":9080706050}\n",
    "\n",
    "importContacts(newContacts)"
   ]
  },
  {
   "cell_type": "code",
   "execution_count": 94,
   "metadata": {},
   "outputs": [
    {
     "data": {
      "text/plain": [
       "{'name1': 88888,\n",
       " 'name2': 8888844,\n",
       " 'name3': '1122334455',\n",
       " 'Ram': '81231231123',\n",
       " 'Rams': 9848022338,\n",
       " 'Pawan': 9080706050}"
      ]
     },
     "execution_count": 94,
     "metadata": {},
     "output_type": "execute_result"
    }
   ],
   "source": [
    "contacts"
   ]
  },
  {
   "cell_type": "code",
   "execution_count": 121,
   "metadata": {},
   "outputs": [
    {
     "name": "stdout",
     "output_type": "stream",
     "text": [
      "Contact Ram added\n"
     ]
    },
    {
     "data": {
      "text/plain": [
       "{'Rams': 9848022338,\n",
       " 'Pawan': 9080706050,\n",
       " 'Phani': '9000783110',\n",
       " 'Raj': '9923843219',\n",
       " 'Money': '9567223239',\n",
       " 'Ram': '8186997138'}"
      ]
     },
     "execution_count": 121,
     "metadata": {},
     "output_type": "execute_result"
    }
   ],
   "source": [
    "addContact(\"Ram\",\"8186997138\")\n",
    "contacts"
   ]
  },
  {
   "cell_type": "code",
   "execution_count": 122,
   "metadata": {},
   "outputs": [
    {
     "name": "stdout",
     "output_type": "stream",
     "text": [
      "{'Rams': 9848022338, 'Pawan': 9080706050, 'Phani': '9000783110', 'Raj': '9923843219', 'Money': '9567223239', 'Ram': '8186997138'}\n"
     ]
    }
   ],
   "source": [
    "#contacts.pop(\"Ram\")\n",
    "print(contacts)"
   ]
  },
  {
   "cell_type": "markdown",
   "metadata": {},
   "source": [
    "## Packages and Modules\n",
    "1.**Package**\n",
    "    >Collction of modules(Python file.py)\n",
    "2.**Sub Package**\n",
    "    >\n",
    "3.**Module**\n",
    "    >A Single Python file containing functions\n",
    "4.package>Subpackage>Module>Function"
   ]
  },
  {
   "cell_type": "code",
   "execution_count": 125,
   "metadata": {},
   "outputs": [
    {
     "data": {
      "text/plain": [
       "129"
      ]
     },
     "execution_count": 125,
     "metadata": {},
     "output_type": "execute_result"
    }
   ],
   "source": [
    "import math\n",
    "\n",
    "math.floor(129.898) # its like Module "
   ]
  },
  {
   "cell_type": "code",
   "execution_count": 139,
   "metadata": {},
   "outputs": [
    {
     "data": {
      "text/plain": [
       "0.0"
      ]
     },
     "execution_count": 139,
     "metadata": {},
     "output_type": "execute_result"
    }
   ],
   "source": [
    "math.remainder(124567872,12)"
   ]
  },
  {
   "cell_type": "code",
   "execution_count": 146,
   "metadata": {},
   "outputs": [
    {
     "data": {
      "text/plain": [
       "3628800"
      ]
     },
     "execution_count": 146,
     "metadata": {},
     "output_type": "execute_result"
    }
   ],
   "source": [
    "math.factorial(10)"
   ]
  },
  {
   "cell_type": "code",
   "execution_count": 150,
   "metadata": {},
   "outputs": [
    {
     "data": {
      "text/plain": [
       "3628800"
      ]
     },
     "execution_count": 150,
     "metadata": {},
     "output_type": "execute_result"
    }
   ],
   "source": [
    "from math import remainder as factorial\n",
    "math.remainder(10)"
   ]
  },
  {
   "cell_type": "code",
   "execution_count": 171,
   "metadata": {},
   "outputs": [
    {
     "name": "stdout",
     "output_type": "stream",
     "text": [
      "95 40 58 64 73 80 87 60 90 55 97 94 "
     ]
    }
   ],
   "source": [
    "import random \n",
    "\n",
    "def GenNRandNum(n, lb, ub):\n",
    "    for i in range (0,n):\n",
    "        print(random.randint(lb,ub),end=\" \")\n",
    "\n",
    "GenNRandNum(12, 34, 98)"
   ]
  },
  {
   "cell_type": "code",
   "execution_count": 6,
   "metadata": {},
   "outputs": [
    {
     "data": {
      "text/plain": [
       "0"
      ]
     },
     "execution_count": 6,
     "metadata": {},
     "output_type": "execute_result"
    }
   ],
   "source": [
    "from Packages import Numerical\n",
    "Numerical.NoOfPrimeFact(25)"
   ]
  },
  {
   "cell_type": "code",
   "execution_count": null,
   "metadata": {},
   "outputs": [],
   "source": []
  },
  {
   "cell_type": "code",
   "execution_count": null,
   "metadata": {},
   "outputs": [],
   "source": []
  }
 ],
 "metadata": {
  "kernelspec": {
   "display_name": "Python 3",
   "language": "python",
   "name": "python3"
  },
  "language_info": {
   "codemirror_mode": {
    "name": "ipython",
    "version": 3
   },
   "file_extension": ".py",
   "mimetype": "text/x-python",
   "name": "python",
   "nbconvert_exporter": "python",
   "pygments_lexer": "ipython3",
   "version": "3.7.3"
  }
 },
 "nbformat": 4,
 "nbformat_minor": 2
}
